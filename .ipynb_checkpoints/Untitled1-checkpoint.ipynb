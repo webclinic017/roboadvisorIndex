{
 "cells": [
  {
   "cell_type": "code",
   "execution_count": 1,
   "id": "6adf0845",
   "metadata": {},
   "outputs": [
    {
     "ename": "NameError",
     "evalue": "name 'stream' is not defined",
     "output_type": "error",
     "traceback": [
      "\u001b[1;31m---------------------------------------------------------------------------\u001b[0m",
      "\u001b[1;31mNameError\u001b[0m                                 Traceback (most recent call last)",
      "Input \u001b[1;32mIn [1]\u001b[0m, in \u001b[0;36m<cell line: 8>\u001b[1;34m()\u001b[0m\n\u001b[0;32m      5\u001b[0m \u001b[38;5;28;01masync\u001b[39;00m \u001b[38;5;28;01mdef\u001b[39;00m \u001b[38;5;21mtrade_callback\u001b[39m(t):\n\u001b[0;32m      6\u001b[0m     \u001b[38;5;28mprint\u001b[39m(\u001b[38;5;124m'\u001b[39m\u001b[38;5;124mtrade\u001b[39m\u001b[38;5;124m'\u001b[39m, t)\n\u001b[1;32m----> 8\u001b[0m \u001b[43mstream\u001b[49m\u001b[38;5;241m.\u001b[39msubscribe_trades(trade_callback, \u001b[38;5;124m'\u001b[39m\u001b[38;5;124mAAPL\u001b[39m\u001b[38;5;124m'\u001b[39m)\n\u001b[0;32m      9\u001b[0m stream\u001b[38;5;241m.\u001b[39mrun()\n",
      "\u001b[1;31mNameError\u001b[0m: name 'stream' is not defined"
     ]
    }
   ],
   "source": [
    "from alpaca_trade_api.common import URL\n",
    "from alpaca_trade_api.stream import Stream\n",
    "\n",
    "stream = Stream('PKOO9J9ZSCEZD76OZU2H',\n",
    "                'b6OIvLeNFkG7mZ0UDnfZvBt9GmOWj9PDa9nbXyxp',\n",
    "                base_url=URL('https://paper-api.alpaca.markets'),\n",
    "                data_feed='iex')  # <- replace to 'sip' if you have PRO subscription\n",
    "\n",
    "async def trade_callback(t):\n",
    "    print('trade', t)\n",
    "    \n",
    "stream.subscribe_trades(trade_callback, 'AAPL')\n",
    "stream.run()"
   ]
  },
  {
   "cell_type": "code",
   "execution_count": null,
   "id": "39a58890",
   "metadata": {},
   "outputs": [],
   "source": []
  }
 ],
 "metadata": {
  "kernelspec": {
   "display_name": "Python 3 (ipykernel)",
   "language": "python",
   "name": "python3"
  },
  "language_info": {
   "codemirror_mode": {
    "name": "ipython",
    "version": 3
   },
   "file_extension": ".py",
   "mimetype": "text/x-python",
   "name": "python",
   "nbconvert_exporter": "python",
   "pygments_lexer": "ipython3",
   "version": "3.9.12"
  }
 },
 "nbformat": 4,
 "nbformat_minor": 5
}
